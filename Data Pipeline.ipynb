{
 "cells": [
  {
   "cell_type": "markdown",
   "id": "3dcc49a7",
   "metadata": {},
   "source": [
    "# USCIS Data  \n",
    "\n",
    "Data Pipeline Implementation to extract, ingest, transform, store and consume USCIS case data.\n",
    "\n",
    "Objective: Collect case data from USCIS website for analysis purposes."
   ]
  },
  {
   "cell_type": "code",
   "execution_count": 1,
   "id": "8ee586f0",
   "metadata": {},
   "outputs": [],
   "source": [
    "import pandas as pd\n",
    "import numpy as np\n",
    "import matplotlib.pyplot as plt\n",
    "import seaborn as sns\n",
    "from helper import *"
   ]
  },
  {
   "cell_type": "markdown",
   "id": "b471275e",
   "metadata": {},
   "source": [
    "## Data Source (USCIS Website)\n",
    "\n",
    "Data that we need is on USCIS website. You can access case status using a receipt number. \n",
    "\n"
   ]
  },
  {
   "cell_type": "markdown",
   "id": "8220b543",
   "metadata": {},
   "source": [
    "### Generate n-case Number from given receipt number"
   ]
  },
  {
   "cell_type": "code",
   "execution_count": 2,
   "id": "cfbda14d",
   "metadata": {},
   "outputs": [
    {
     "name": "stdout",
     "output_type": "stream",
     "text": [
      "500 Cases generated\n"
     ]
    }
   ],
   "source": [
    "# Add reciept number of your interest here\n",
    "reciept_number = \"Enter_reciept_number_here\"\n",
    "# Number of cases to generate\n",
    "count_cases = 500\n",
    "\n",
    "# Generate case numbers (-n/2 to +n/2)\n",
    "case_number_list = generate_receipt_numbers(start_receipt_num=reciept_number, cnt = count_cases)\n",
    "\n",
    "# Save numbers to text file. This will be used by spider to crawl data\n",
    "np.savetxt(\"Scrapy/active_cases/active_cases.csv\", case_number_list,delimiter =\",\", fmt ='% s')\n",
    "print(len(case_number_list), \"Cases generated\")"
   ]
  },
  {
   "cell_type": "markdown",
   "id": "efe49faf",
   "metadata": {},
   "source": [
    "## Data Ingestion (Crawl Data Using Scrapy and Ingest raw data in files)\n",
    "\n",
    "Run program to crawl data from USCIS website using receipt numbers. Crawl data using Scrapy Framework. Store HTML response in csv file\n",
    "\n",
    "- *scrapy crawl spider_name -o output_file_name*\n",
    "\n",
    "Eg. **scrapy crawl USCIS -o case_details.csv** \n",
    "\n",
    "**NOTE**: Run this command in terminal from *Scrapy* folder\n",
    "\n",
    "USCIS spider is in USICS_spider.py\n",
    "This program crawls data from USCIS website to get case status using receipt number. Raw data is stored in output_file (case_details.csv).\n",
    "\n",
    "This file is used in next steps. Crawl data before moving forward.\n",
    "\n"
   ]
  },
  {
   "cell_type": "markdown",
   "id": "1985aa48",
   "metadata": {},
   "source": [
    "## Data Processing (Cleaning and Transformation)\n",
    "\n",
    "Transform and clean raw data. Enrich data with more attributes. \n",
    "\n",
    "**tranform_data()**: This function uses \"case description\" and generate attributes like Form-Type and Status Date"
   ]
  },
  {
   "cell_type": "code",
   "execution_count": 9,
   "id": "7538bf6b",
   "metadata": {},
   "outputs": [
    {
     "name": "stdout",
     "output_type": "stream",
     "text": [
      "327  cases from  2022-08-09  to  2023-02-08\n",
      "\n",
      "Case Status Distribution:\n",
      " Case Was Updated To Show Fingerprints Were Taken         33\n",
      "Response To USCIS' Request For Evidence Was Received      7\n",
      "Case Was Rejected Because It Was Improperly Filed         6\n",
      "Case Was Approved                                         5\n",
      "Case Was Received                                         3\n",
      "Fees Were Waived                                          2\n",
      "Request for Initial Evidence Was Sent                     1\n",
      "Correspondence Was Received And USCIS Is Reviewing It     1\n",
      "Case Rejected Because I Sent An Incorrect Fee             1\n",
      "Name: Case_Status, dtype: int64\n"
     ]
    }
   ],
   "source": [
    "# Transformation and Cleaning\n",
    "df_raw = transform_data(pd.read_csv(\"Scrapy/Daily_Data/case_details.csv\"))\n",
    "df_main = df_raw[[\"Reciept_Number\",\"Form-Type\",\"Case_Status\",\"Date\"]].drop_duplicates()\n",
    "df_main.dropna(subset=['Case_Status'], inplace = True)\n",
    "\n",
    "case_distribution(df = df_main,form_type = \"I-485\")"
   ]
  },
  {
   "cell_type": "code",
   "execution_count": 20,
   "id": "6cf8442c",
   "metadata": {},
   "outputs": [
    {
     "data": {
      "text/html": [
       "<div>\n",
       "<style scoped>\n",
       "    .dataframe tbody tr th:only-of-type {\n",
       "        vertical-align: middle;\n",
       "    }\n",
       "\n",
       "    .dataframe tbody tr th {\n",
       "        vertical-align: top;\n",
       "    }\n",
       "\n",
       "    .dataframe thead th {\n",
       "        text-align: right;\n",
       "    }\n",
       "</style>\n",
       "<table border=\"1\" class=\"dataframe\">\n",
       "  <thead>\n",
       "    <tr style=\"text-align: right;\">\n",
       "      <th></th>\n",
       "      <th>Form-Type</th>\n",
       "      <th>Case_Status</th>\n",
       "      <th>Date</th>\n",
       "    </tr>\n",
       "  </thead>\n",
       "  <tbody>\n",
       "    <tr>\n",
       "      <th>0</th>\n",
       "      <td>I-765</td>\n",
       "      <td>Case Was Updated To Show Fingerprints Were Taken</td>\n",
       "      <td>09-5-2022</td>\n",
       "    </tr>\n",
       "    <tr>\n",
       "      <th>1</th>\n",
       "      <td>I-765</td>\n",
       "      <td>Case Was Updated To Show Fingerprints Were Taken</td>\n",
       "      <td>09-5-2022</td>\n",
       "    </tr>\n",
       "    <tr>\n",
       "      <th>2</th>\n",
       "      <td>I-765</td>\n",
       "      <td>Case Was Denied</td>\n",
       "      <td>10-14-2022</td>\n",
       "    </tr>\n",
       "    <tr>\n",
       "      <th>3</th>\n",
       "      <td>I-765</td>\n",
       "      <td>Case Was Updated To Show Fingerprints Were Taken</td>\n",
       "      <td>09-5-2022</td>\n",
       "    </tr>\n",
       "    <tr>\n",
       "      <th>4</th>\n",
       "      <td>I-765</td>\n",
       "      <td>Case Was Updated To Show Fingerprints Were Taken</td>\n",
       "      <td>09-5-2022</td>\n",
       "    </tr>\n",
       "    <tr>\n",
       "      <th>...</th>\n",
       "      <td>...</td>\n",
       "      <td>...</td>\n",
       "      <td>...</td>\n",
       "    </tr>\n",
       "    <tr>\n",
       "      <th>489</th>\n",
       "      <td>I-601</td>\n",
       "      <td>Case Was Received</td>\n",
       "      <td>08-30-2022</td>\n",
       "    </tr>\n",
       "    <tr>\n",
       "      <th>492</th>\n",
       "      <td></td>\n",
       "      <td>Card Was Picked Up By The United States Postal...</td>\n",
       "      <td>11-7-2022</td>\n",
       "    </tr>\n",
       "    <tr>\n",
       "      <th>494</th>\n",
       "      <td></td>\n",
       "      <td>Card Was Picked Up By The United States Postal...</td>\n",
       "      <td>11-7-2022</td>\n",
       "    </tr>\n",
       "    <tr>\n",
       "      <th>496</th>\n",
       "      <td>I-130</td>\n",
       "      <td>Case Was Approved</td>\n",
       "      <td>12-6-2022</td>\n",
       "    </tr>\n",
       "    <tr>\n",
       "      <th>497</th>\n",
       "      <td>I-131</td>\n",
       "      <td>Case Closed Benefit Received By Other Means</td>\n",
       "      <td>12-12-2022</td>\n",
       "    </tr>\n",
       "  </tbody>\n",
       "</table>\n",
       "<p>327 rows × 3 columns</p>\n",
       "</div>"
      ],
      "text/plain": [
       "    Form-Type                                        Case_Status        Date\n",
       "0       I-765   Case Was Updated To Show Fingerprints Were Taken   09-5-2022\n",
       "1       I-765   Case Was Updated To Show Fingerprints Were Taken   09-5-2022\n",
       "2       I-765                                    Case Was Denied  10-14-2022\n",
       "3       I-765   Case Was Updated To Show Fingerprints Were Taken   09-5-2022\n",
       "4       I-765   Case Was Updated To Show Fingerprints Were Taken   09-5-2022\n",
       "..        ...                                                ...         ...\n",
       "489     I-601                                  Case Was Received  08-30-2022\n",
       "492            Card Was Picked Up By The United States Postal...   11-7-2022\n",
       "494            Card Was Picked Up By The United States Postal...   11-7-2022\n",
       "496     I-130                                  Case Was Approved   12-6-2022\n",
       "497     I-131        Case Closed Benefit Received By Other Means  12-12-2022\n",
       "\n",
       "[327 rows x 3 columns]"
      ]
     },
     "execution_count": 20,
     "metadata": {},
     "output_type": "execute_result"
    }
   ],
   "source": [
    "df_main[[\"Form-Type\",\"Case_Status\",\"Date\"]]"
   ]
  },
  {
   "cell_type": "markdown",
   "id": "5eb2b292",
   "metadata": {},
   "source": [
    "## Data Storage (Data Warehouse / CSV Files)"
   ]
  },
  {
   "cell_type": "code",
   "execution_count": 5,
   "id": "923ce355",
   "metadata": {},
   "outputs": [],
   "source": [
    "# Save current_df as Most_Recent_Data \n",
    "df_main.to_csv(\"Scrapy/Daily_Data/clean_case_data.csv\")"
   ]
  },
  {
   "cell_type": "markdown",
   "id": "dd2a735a",
   "metadata": {},
   "source": [
    "## Data Consumption (Data Analytics. Maybe Power BI or Tableau)"
   ]
  },
  {
   "cell_type": "code",
   "execution_count": 21,
   "id": "ee5ecf6f",
   "metadata": {},
   "outputs": [
    {
     "data": {
      "text/plain": [
       "(array([0, 1, 2, 3, 4]),\n",
       " [Text(0, 0, 'Approved'),\n",
       "  Text(1, 0, 'Rejected or Denied'),\n",
       "  Text(2, 0, 'RFE Sent'),\n",
       "  Text(3, 0, 'RFE Received'),\n",
       "  Text(4, 0, 'Other')])"
      ]
     },
     "execution_count": 21,
     "metadata": {},
     "output_type": "execute_result"
    },
    {
     "data": {
      "image/png": "[encoded data removed]",
      "text/plain": [
       "<Figure size 432x288 with 1 Axes>"
      ]
     },
     "metadata": {
      "needs_background": "light"
     },
     "output_type": "display_data"
    }
   ],
   "source": [
    "summary_plot = sns.barplot(data=summary(df_main), x=\"Case Status\", y=\"Count\")\n",
    "plt.xticks(rotation=90)"
   ]
  }
 ],
 "metadata": {
  "kernelspec": {
   "display_name": "Python 3",
   "language": "python",
   "name": "python3"
  },
  "language_info": {
   "codemirror_mode": {
    "name": "ipython",
    "version": 3
   },
   "file_extension": ".py",
   "mimetype": "text/x-python",
   "name": "python",
   "nbconvert_exporter": "python",
   "pygments_lexer": "ipython3",
   "version": "3.8.5"
  }
 },
 "nbformat": 4,
 "nbformat_minor": 5
}
